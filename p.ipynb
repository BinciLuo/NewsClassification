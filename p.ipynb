{
 "cells": [
  {
   "cell_type": "code",
   "execution_count": null,
   "metadata": {},
   "outputs": [],
   "source": [
    "import os\n",
    "import numpy as np\n",
    "from sklearn.model_selection import train_test_split\n",
    "import pickle\n",
    "import gensim\n",
    "import torch\n",
    "import torch.nn as nn\n",
    "import torch.optim as optim\n",
    "from sklearn.metrics import accuracy_score"
   ]
  },
  {
   "cell_type": "code",
   "execution_count": 1,
   "metadata": {},
   "outputs": [],
   "source": [
    "def load_data(data_dir):\n",
    "    data = []\n",
    "    labels = []\n",
    "\n",
    "    # 遍历data目录下的所有txt文件\n",
    "    for category in os.listdir(data_dir):\n",
    "        category_path = os.path.join(data_dir, category)\n",
    "        print(category_path)\n",
    "        if category_path.endswith(\".txt\"):\n",
    "            with open(category_path, \"r\", encoding=\"utf-8\") as file:\n",
    "                lines = file.readlines()\n",
    "                lines = [line.strip() for line in lines]\n",
    "                data += lines\n",
    "                labels += [category[:-4]] * len(lines)\n",
    "\n",
    "    return data, labels"
   ]
  },
  {
   "cell_type": "code",
   "execution_count": 2,
   "metadata": {},
   "outputs": [],
   "source": [
    "def split_train_test_data(data, labels, test_size=0.2, random_state=42):\n",
    "    # 划分训练集和测试集\n",
    "    train_data, test_data, train_labels, test_labels = train_test_split(\n",
    "        data, labels, test_size=test_size, random_state=random_state\n",
    "    )\n",
    "\n",
    "    return train_data, test_data, train_labels, test_labels"
   ]
  },
  {
   "cell_type": "code",
   "execution_count": 3,
   "metadata": {},
   "outputs": [],
   "source": [
    "def pickle_dump(path, obj):\n",
    "    with open(path, 'wb') as f:\n",
    "        pickle.dump(obj, f)\n",
    "\n",
    "\n",
    "def pickle_load(path):\n",
    "    with open(path, 'rb') as f:\n",
    "        return pickle.load(f)"
   ]
  },
  {
   "cell_type": "code",
   "execution_count": 4,
   "metadata": {},
   "outputs": [],
   "source": [
    "def create_vector(train_data, train_labels):\n",
    "    sentences = [list(line) for line in train_data]\n",
    "    word2vec_model = gensim.models.Word2Vec(sentences, vector_size=100, window=5, min_count=1, sg=0)\n",
    "    word2vec_model.wv['<UNK>'] = np.zeros((100))\n",
    "    embedding_matrix = np.zeros((len(word2vec_model.wv.index_to_key), word2vec_model.vector_size))\n",
    "    for i, word in enumerate(word2vec_model.wv.index_to_key):\n",
    "        embedding_matrix[i] = word2vec_model.wv[word]\n",
    "    return word2vec_model"
   ]
  },
  {
   "cell_type": "code",
   "execution_count": 5,
   "metadata": {},
   "outputs": [],
   "source": [
    "def text_to_vector(text, word2vec_model, max_length):\n",
    "    words = list(text)  # 将文本拆分为单词\n",
    "    vector = []\n",
    "    for word in words:\n",
    "        if word in word2vec_model.wv:\n",
    "            vector.append(word2vec_model.wv[word])  # 如果单词在Word2Vec模型中存在，将其词向量添加到序列中\n",
    "        else:\n",
    "            vector.append(word2vec_model.wv['<UNK>'])  # 否则，使用<UNK>标记的向量代替未登录词\n",
    "    # 填充或截断向量以适应固定长度\n",
    "    if len(vector) < max_length:\n",
    "        vector.extend([word2vec_model.wv['<UNK>']] * (max_length - len(vector)))  # 填充向量\n",
    "    else:\n",
    "        vector = vector[:max_length]  # 截断向量以达到最大长度\n",
    "    return vector\n"
   ]
  },
  {
   "cell_type": "code",
   "execution_count": null,
   "metadata": {},
   "outputs": [],
   "source": [
    "def text_to_id(text, word2vec_model, max_length):\n",
    "    words = list(text)  # 将文本拆分为单词\n",
    "    vector = []\n",
    "    for word in words:\n",
    "        if word in word2vec_model.wv:\n",
    "            vector.append(word2vec_model.wv.key_to_index[word])  # 如果单词在Word2Vec模型中存在，将其词向量添加到序列中\n",
    "        else:\n",
    "            vector.append(word2vec_model.wv.key_to_index['<UNK>'])  # 否则，使用<UNK>标记的向量代替未登录词\n",
    "    # 填充或截断向量以适应固定长度\n",
    "    if len(vector) < max_length:\n",
    "        vector.extend([word2vec_model.wv.key_to_index['<UNK>']] * (max_length - len(vector)))  # 填充向量\n",
    "    else:\n",
    "        vector = vector[:max_length]  # 截断向量以达到最大长度\n",
    "    return vector"
   ]
  }
 ],
 "metadata": {
  "kernelspec": {
   "display_name": "torch",
   "language": "python",
   "name": "python3"
  },
  "language_info": {
   "codemirror_mode": {
    "name": "ipython",
    "version": 3
   },
   "file_extension": ".py",
   "mimetype": "text/x-python",
   "name": "python",
   "nbconvert_exporter": "python",
   "pygments_lexer": "ipython3",
   "version": "3.8.16"
  },
  "orig_nbformat": 4
 },
 "nbformat": 4,
 "nbformat_minor": 2
}
