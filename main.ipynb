{
 "cells": [
  {
   "cell_type": "code",
   "execution_count": 27,
   "metadata": {},
   "outputs": [],
   "source": [
    "from preprocess import *"
   ]
  },
  {
   "cell_type": "code",
   "execution_count": 87,
   "metadata": {},
   "outputs": [],
   "source": [
    "data, labels = load_data('THUCNews-Title')"
   ]
  },
  {
   "cell_type": "code",
   "execution_count": 88,
   "metadata": {},
   "outputs": [
    {
     "data": {
      "text/plain": [
       "(836075, 836075)"
      ]
     },
     "execution_count": 88,
     "metadata": {},
     "output_type": "execute_result"
    }
   ],
   "source": [
    "len(data),len(labels)"
   ]
  },
  {
   "cell_type": "code",
   "execution_count": 30,
   "metadata": {},
   "outputs": [],
   "source": [
    "wvm = create_vector(data, labels, 64)\n",
    "pickle_dump('wvm', wvm)"
   ]
  },
  {
   "cell_type": "code",
   "execution_count": 89,
   "metadata": {},
   "outputs": [],
   "source": [
    "train_data, test_data, train_labels, test_labels = split_train_test_data(data, labels, test_size=0.3)"
   ]
  },
  {
   "cell_type": "code",
   "execution_count": 86,
   "metadata": {},
   "outputs": [],
   "source": [
    "spider_test_data, spider_test_labels = test_data, test_labels"
   ]
  },
  {
   "cell_type": "code",
   "execution_count": 90,
   "metadata": {},
   "outputs": [],
   "source": [
    "labelset = list(set(train_labels))\n",
    "idx2label = dict(enumerate(labelset))\n",
    "label2idx = dict([(v, k) for k, v in enumerate(labelset)])\n",
    "\n",
    "train_data_id = [text_to_id(text, wvm, 30) for text in train_data ]\n",
    "train_labels_idx = np.array([label2idx[label] for label in train_labels])\n",
    "\n",
    "\n",
    "test_data_id = [text_to_id(text, wvm, 30) for text in test_data ]\n",
    "test_labels_idx = np.array([label2idx[label] for label in test_labels])"
   ]
  },
  {
   "cell_type": "code",
   "execution_count": 33,
   "metadata": {},
   "outputs": [],
   "source": [
    "embedding_matrix = np.zeros((len(wvm.wv.index_to_key), wvm.vector_size))\n",
    "for i, word in enumerate(wvm.wv.index_to_key):\n",
    "    embedding_matrix[i] = wvm.wv[word]"
   ]
  },
  {
   "cell_type": "code",
   "execution_count": 34,
   "metadata": {},
   "outputs": [],
   "source": [
    "pickle_dump('idx2label', idx2label)\n",
    "pickle_dump('label2idx', label2idx)\n",
    "pickle_dump('wvm', wvm)\n",
    "pickle_dump('embedding_matrix', embedding_matrix)"
   ]
  },
  {
   "cell_type": "code",
   "execution_count": 35,
   "metadata": {},
   "outputs": [],
   "source": [
    "class BiLSTMClassifier(nn.Module):\n",
    "    def __init__(self, embedding_matrix, hidden_dim, num_classes):\n",
    "        super(BiLSTMClassifier, self).__init__()\n",
    "        self.embedding = nn.Embedding.from_pretrained(torch.FloatTensor(embedding_matrix), freeze=True)\n",
    "        self.lstm = nn.LSTM(embedding_matrix.shape[1], hidden_dim, bidirectional=True, batch_first=True)\n",
    "        self.fc = nn.Linear(hidden_dim * 2, num_classes)\n",
    "\n",
    "    def forward(self, x):\n",
    "        embedded = self.embedding(x)\n",
    "        lstm_out, _ = self.lstm(embedded)\n",
    "        avg_pool = torch.mean(lstm_out, dim=1)\n",
    "        output = self.fc(avg_pool)\n",
    "        return output"
   ]
  },
  {
   "cell_type": "code",
   "execution_count": 36,
   "metadata": {},
   "outputs": [],
   "source": [
    "\n",
    "\n",
    "hidden_dim = 64\n",
    "num_classes = len(label2idx)\n",
    "model = BiLSTMClassifier(embedding_matrix, hidden_dim, num_classes)\n",
    "\n",
    "criterion = nn.CrossEntropyLoss()\n",
    "optimizer = optim.Adam(model.parameters(), lr=0.001)"
   ]
  },
  {
   "cell_type": "code",
   "execution_count": 77,
   "metadata": {},
   "outputs": [],
   "source": [
    "train_data_id_tensor = torch.LongTensor(train_data_id)\n",
    "train_labels_idx_tensor = torch.LongTensor(train_labels_idx)\n",
    "\n",
    "test_data_id_tensor = torch.LongTensor(test_data_id)\n",
    "test_labels_idx_tensor = torch.LongTensor(test_labels_idx)"
   ]
  },
  {
   "cell_type": "code",
   "execution_count": 78,
   "metadata": {},
   "outputs": [],
   "source": [
    "model = model.to('cuda')\n",
    "\n",
    "train_data_id_tensor = train_data_id_tensor.to('cuda')\n",
    "train_labels_idx_tensor = train_labels_idx_tensor.to('cuda')\n",
    "\n",
    "\n",
    "test_data_id_tensor = test_data_id_tensor.to('cuda')\n",
    "test_labels_idx_tensor = test_labels_idx_tensor.to('cuda')"
   ]
  },
  {
   "cell_type": "code",
   "execution_count": 39,
   "metadata": {},
   "outputs": [],
   "source": [
    "batch_size = 128\n",
    "\n",
    "train_dataset = torch.utils.data.TensorDataset(train_data_id_tensor, train_labels_idx_tensor)\n",
    "train_loader = torch.utils.data.DataLoader(train_dataset, batch_size=batch_size, shuffle=False)"
   ]
  },
  {
   "cell_type": "code",
   "execution_count": 40,
   "metadata": {},
   "outputs": [
    {
     "name": "stdout",
     "output_type": "stream",
     "text": [
      " batch: 1000 loss: 0.6460931301116943\n",
      " batch: 2000 loss: 0.42555859684944153\n",
      " batch: 3000 loss: 0.33056896924972534\n",
      " batch: 4000 loss: 0.29724764823913574\n",
      "Epoch [1/5] Loss: 0.5234\n",
      " batch: 1000 loss: 0.4113433063030243\n",
      " batch: 2000 loss: 0.362537682056427\n",
      " batch: 3000 loss: 0.29793497920036316\n",
      " batch: 4000 loss: 0.28559476137161255\n",
      "Epoch [2/5] Loss: 0.3502\n",
      " batch: 1000 loss: 0.3567611575126648\n",
      " batch: 2000 loss: 0.37557128071784973\n",
      " batch: 3000 loss: 0.2742232382297516\n",
      " batch: 4000 loss: 0.2797883450984955\n",
      "Epoch [3/5] Loss: 0.3126\n",
      " batch: 1000 loss: 0.3430483043193817\n",
      " batch: 2000 loss: 0.32845520973205566\n",
      " batch: 3000 loss: 0.25019142031669617\n",
      " batch: 4000 loss: 0.27296218276023865\n",
      "Epoch [4/5] Loss: 0.2908\n",
      " batch: 1000 loss: 0.3329230546951294\n",
      " batch: 2000 loss: 0.2826218008995056\n",
      " batch: 3000 loss: 0.23252573609352112\n",
      " batch: 4000 loss: 0.26305222511291504\n",
      "Epoch [5/5] Loss: 0.2760\n"
     ]
    }
   ],
   "source": [
    "model.train()\n",
    "num_epochs = 5\n",
    "model.to('cuda')\n",
    "epoch_loss = []\n",
    "for epoch in range(num_epochs):\n",
    "    total_loss = 0.0\n",
    "    i = 0\n",
    "    for inputs, labels in train_loader:\n",
    "        optimizer.zero_grad()\n",
    "        outputs = model(inputs)\n",
    "        loss = criterion(outputs, labels)\n",
    "        loss.backward()\n",
    "        optimizer.step()\n",
    "        total_loss += loss.item()\n",
    "        i+=1\n",
    "        if(i % 1000 == 0):\n",
    "            print('\\r batch: {} loss: {}'.format(i, loss.item()))\n",
    "    \n",
    "    average_loss = total_loss / len(train_loader)\n",
    "    fpath = os.path.join('pth',f'epoch_{epoch}.pth')\n",
    "    torch.save(model,fpath)\n",
    "    print(f'Epoch [{epoch + 1}/{num_epochs}] Loss: {average_loss:.4f}')\n",
    "    epoch_loss.append(average_loss)"
   ]
  },
  {
   "cell_type": "code",
   "execution_count": 70,
   "metadata": {},
   "outputs": [
    {
     "name": "stdout",
     "output_type": "stream",
     "text": [
      "Test Accuracy: 91.50%\n"
     ]
    }
   ],
   "source": [
    "model.eval()\n",
    "a = 0\n",
    "b = 200\n",
    "with torch.no_grad():\n",
    "    test_outputs = model(test_data_id_tensor[a:b])\n",
    "    _, predicted = torch.max(test_outputs, 1)\n",
    "    predicted = predicted.to('cpu')\n",
    "    accuracy = accuracy_score(test_labels_idx_tensor.to('cpu')[a:b], predicted.numpy())\n",
    "    print(f'Test Accuracy: {accuracy * 100:.2f}%')"
   ]
  },
  {
   "cell_type": "code",
   "execution_count": 91,
   "metadata": {},
   "outputs": [
    {
     "name": "stdout",
     "output_type": "stream",
     "text": [
      "{0: '社会', 1: '科技', 2: '娱乐', 3: '时政', 4: '房产', 5: '教育', 6: '时尚', 7: '体育', 8: '财经', 9: '彩票', 10: '星座', 11: '家居', 12: '游戏', 13: '股票'}\n"
     ]
    }
   ],
   "source": [
    "print(idx2label)"
   ]
  },
  {
   "cell_type": "code",
   "execution_count": 80,
   "metadata": {},
   "outputs": [
    {
     "name": "stdout",
     "output_type": "stream",
     "text": [
      "Test Accuracy: 5.00%\n"
     ]
    }
   ],
   "source": [
    "model.eval()\n",
    "a = 0\n",
    "b = 200\n",
    "with torch.no_grad():\n",
    "    test_outputs = model(test_data_id_tensor[a:b])\n",
    "    _, predicted = torch.max(test_outputs, 1)\n",
    "    predicted = predicted.to('cpu')\n",
    "    accuracy = accuracy_score(test_labels_idx_tensor.to('cpu')[a:b], predicted.numpy())\n",
    "    print(f'Test Accuracy: {accuracy * 100:.2f}%')"
   ]
  },
  {
   "cell_type": "code",
   "execution_count": 95,
   "metadata": {},
   "outputs": [],
   "source": [
    "def predict(text):\n",
    "    with torch.no_grad():\n",
    "        test_outputs = model(torch.LongTensor([text_to_id(text, wvm, 30)]).to('cuda'))\n",
    "        _, predicted = torch.max(test_outputs, 1)\n",
    "        predicted = predicted.to('cpu').numpy()\n",
    "        predicted = idx2label[predicted[0]]\n",
    "    return predicted"
   ]
  },
  {
   "cell_type": "code",
   "execution_count": 98,
   "metadata": {},
   "outputs": [
    {
     "data": {
      "text/plain": [
       "['安徽启动防汛防台风四级应急响应',\n",
       " '“老头乐”，究竟该去还是留？',\n",
       " '天津百利机械装备集团有限公司原党委书记、董事长王东江严重违纪违法被开除党籍和公职',\n",
       " '病人自述被医生遗忘在磁共振舱3小时！医院称涉事医生已处罚，当地卫健局介入调查',\n",
       " '广州消防：肇花高速一辆货车起火 现场明火扑灭 无人员伤亡',\n",
       " '为抢救生命不计代价 产妇大出血 医护人员奋战20多小时供血6.75万毫升',\n",
       " '我国新型液氧甲烷火箭朱雀二号发射成功',\n",
       " '黑龙江省人大教育科学文化卫生委员会原副主任委员朱志强接受审查调查',\n",
       " '安徽聚力推动制造业高质量发展（高质量发展调研行）',\n",
       " '这样做，让老年人远离多种慢性病的困扰',\n",
       " '“同人作品第一案”二审宣判 作家江南赔金庸方188万',\n",
       " '江西警方捣毁“代孕”诈骗团伙：受害人涉及10余省，金额高达几百万',\n",
       " '辽宁盘锦“1·15”重大生产安全责任事故调查报告公布',\n",
       " '中央纪委国家监委第二监督检查室副主任、一级巡视员刘燃被开除党籍和公职',\n",
       " '假低价、真诱导！网购需警惕电商平台“价格坑”',\n",
       " '全国职工互助保障参保人数达5226万人次',\n",
       " '云南省地震局：滇池白鲢鱼跳龙门初步分析受水体和人为影响',\n",
       " '北京海关今年已截获进境“异宠”128只',\n",
       " '【8点见】男子掏警官证让交警放行？官方通报',\n",
       " '贵州“6·18梵净山金顶摩崖刻字案”违法行为人已被锁定',\n",
       " '重庆警方破获一特大虚开增值税专用发票案 涉案金额超20亿元',\n",
       " '古琴名家齐聚上海 奏响千年非遗古韵',\n",
       " '湖南回应涉“省直单位”微信群不雅信息事件：纪检部门第一时间介入 警方正在调查',\n",
       " '部分交友软件仍对未成年人“不设防”',\n",
       " '天宫TV | 点赞！神十六出舱任务精彩回顾',\n",
       " '中国第13次北冰洋科学考察首个海域作业任务全部完成',\n",
       " '公司为竞标将5万P成5000万 法院：顶格罚款！',\n",
       " '不给“踢皮球”留下空间 深圳打造民生诉求服务一体化平台',\n",
       " '“求爱不成当街捅杀女子”案检方建议死刑，凶手当庭忏悔但未道歉',\n",
       " '抓好关键期 各方助力高校毕业生就业',\n",
       " '就在2024年！AG600有新计划',\n",
       " '答疑！甲流高发，公众如何科学应对？',\n",
       " '重庆文化产业投资集团有限公司党委书记、董事长陈余莉接受审查调查',\n",
       " '电信网络诈骗花样翻新 如何守好“钱袋子”？',\n",
       " '官方通报网传“南山医院整形科医生刘某实名举报信”：纪检监察机构已介入调查',\n",
       " 'C919首飞成功 背后有这些中国高校的身影',\n",
       " '中国石油天然气集团有限公司原副总经理徐文荣接受审查调查',\n",
       " '人社部发布通知：推进高校毕业生等青年就业创业',\n",
       " '北京警方：“2023北京花马”赛事期间 部分道路将临时管制',\n",
       " '加强工程教育，培养新时代“鲁班”',\n",
       " '全国首单数据知产被侵权损失保险签发',\n",
       " '上海：每所中小学校应配备至少1名法治副校长',\n",
       " '反间谍法修订拟完善关于网络间谍行为的规定',\n",
       " '国家文物局：规范引导博物馆社会讲解，及时纠正歪曲史实等行为',\n",
       " '京津冀等地高温再发展局地或达40℃ 强降雨重点影响长江以北',\n",
       " '专家：乳腺癌防治迎新进展 但早诊早治仍是上策',\n",
       " '“缅北淘金”多陷阱 警惕黑手伸向青少年',\n",
       " '七夕“冷知识”：“牛郎”“织女”真能相会吗？',\n",
       " '山东威海市原副市长周永迪受贿案一审公开宣判',\n",
       " '最高人民检察院依法对张晓霈决定逮捕',\n",
       " '杭州公安破获一起侵犯亚运会著作权案件',\n",
       " '前四个月我国服务贸易增长9.1%',\n",
       " '中国警方与印尼警方开展国际警务执法合作 成功抓获88名从事跨境裸聊敲诈的电信网络诈骗犯罪嫌疑人',\n",
       " '检察机关办理的食药安全公益诉讼案件呈现什么特点？最高检回应',\n",
       " '山西公布秦汉墓发掘资料 助推中国北方秦汉考古文化谱系建立',\n",
       " '北京57个老旧小区纳入今年首批改造，涉163栋楼',\n",
       " '报告：农村消费环境持续改善 电商带动消费升级',\n",
       " '新版《摩托车、电动自行车乘员头盔》国家标准修订发布',\n",
       " '多所高校2023年高招政策陆续出炉：新专业新模式，以“新”顺应国家发展',\n",
       " '公安部在全国101个县（区）设立农村赌博常态监测点',\n",
       " '北京政法职业学院通报“男生制止霸凌遭同学辱骂围堵”：警方正调查',\n",
       " '一季度我国人民币贷款增加10.6万亿元 同比创新高',\n",
       " '“村超”观察：一粒足球的力量',\n",
       " '国家癌症中心：我国已建立覆盖14.07亿人口的肿瘤登记体系',\n",
       " '为什么不要把孩子单独留在车里？',\n",
       " '六一临近儿童产品走俏',\n",
       " '一针改善老年灵长类动物的记忆',\n",
       " '新华全媒+丨闻“汛”而动提前部署 加快恢复生产生活——辽宁全力打好防范强降雨“主动仗”见闻',\n",
       " '“研学游”，如何实现“研学优”',\n",
       " '教育部：加快推动京津优质基础教育资源同河北共享',\n",
       " '游客下海疑被不明鱼类咬伤，广西北海一浴场暂停涉水活动',\n",
       " '“零首付购房”有哪些风险？多地监管部门发出提示',\n",
       " '文博日历丨八年级的物理题 2000多年前的古人就会做',\n",
       " '妙笔绘端午 仲夏观龙舟——《艺术里的奥林匹克》与您共赏《十二月令图·五月》洋溢的繁盛祥和',\n",
       " '以色列研究借助新靶向给药系统高效杀灭骨髓癌细胞',\n",
       " '大学生“以证换狗”走红，律师称帮忙遛狗需划分责任',\n",
       " '2022中国科幻网络文学白皮书发布，科幻网文增长迅速',\n",
       " '我国评选创新升级消费品九批655个',\n",
       " '安徽来安两名警务人员为救溺水男子因公殉职',\n",
       " '119岁的京剧科班富连成社入驻“北京老字号”',\n",
       " '驰骋方寸 心游无极——《艺术里的奥林匹克》带您品味《香山九老图》里寄情山水的恬淡志趣',\n",
       " '“码农”劳动争议频发 厘清责任依法“护体”',\n",
       " '日本核污染水或2年内进入我国海域！专家解读',\n",
       " '北京交警：中考期间送考车辆尾号限行违法不作处罚',\n",
       " '北京市政协教文卫体委员会原主任周立云被开除党籍和公职',\n",
       " '教育部：不让一个适龄儿童因家庭贫困而辍学失学',\n",
       " '多彩暑托班 点亮缤纷假期',\n",
       " '受台风“苏拉”强降雨影响 广西发布洪水蓝色预警',\n",
       " '新华视点丨“高薪”背后可能有陷阱 谨防招聘诈骗套路多',\n",
       " '首都机场发布雷雨警报：预计会对航班运行造成较大影响',\n",
       " '我国人工智能蓬勃发展 核心产业规模达5000亿元',\n",
       " '美国唱片学院更新格莱美奖评选规则，将纯AI生成作品拒之门外',\n",
       " 'AI来了，“智能”抢了“人工”的饭碗？',\n",
       " '“学院派”烧虾师傅“抢手” 高校冷门专业就业“真香”',\n",
       " '因油价上涨，8月18日起杭州市区出租车将收取1元燃油附加费',\n",
       " '扫墓时遇到这样一场音乐会',\n",
       " '为一亿乙肝感染者发声，电影《不止不休》传递了什么？',\n",
       " '中国首部青少年院线公益电影《青爱》在京开机',\n",
       " '北京进入今年第二个飞絮高发期 将持续至5月7日',\n",
       " '湖北五峰县山体滑坡：仍有7人失联 现场全力展开搜救']"
      ]
     },
     "execution_count": 98,
     "metadata": {},
     "output_type": "execute_result"
    }
   ],
   "source": [
    "spider_test_data[:100]"
   ]
  },
  {
   "cell_type": "code",
   "execution_count": 102,
   "metadata": {},
   "outputs": [
    {
     "name": "stdout",
     "output_type": "stream",
     "text": [
      "时政 \t 安徽启动防汛防台风四级应急响应\n",
      "教育 \t “老头乐”，究竟该去还是留？\n",
      "体育 \t 天津百利机械装备集团有限公司原党委书记、董事长王东江严重违纪违法被开除党籍和公职\n",
      "体育 \t 病人自述被医生遗忘在磁共振舱3小时！医院称涉事医生已处罚，当地卫健局介入调查\n",
      "体育 \t 广州消防：肇花高速一辆货车起火 现场明火扑灭 无人员伤亡\n",
      "体育 \t 为抢救生命不计代价 产妇大出血 医护人员奋战20多小时供血6.75万毫升\n",
      "科技 \t 我国新型液氧甲烷火箭朱雀二号发射成功\n",
      "体育 \t 黑龙江省人大教育科学文化卫生委员会原副主任委员朱志强接受审查调查\n",
      "股票 \t 安徽聚力推动制造业高质量发展（高质量发展调研行）\n",
      "时尚 \t 这样做，让老年人远离多种慢性病的困扰\n",
      "体育 \t “同人作品第一案”二审宣判 作家江南赔金庸方188万\n",
      "体育 \t 江西警方捣毁“代孕”诈骗团伙：受害人涉及10余省，金额高达几百万\n",
      "体育 \t 辽宁盘锦“1·15”重大生产安全责任事故调查报告公布\n",
      "体育 \t 中央纪委国家监委第二监督检查室副主任、一级巡视员刘燃被开除党籍和公职\n",
      "科技 \t 假低价、真诱导！网购需警惕电商平台“价格坑”\n",
      "时政 \t 全国职工互助保障参保人数达5226万人次\n",
      "体育 \t 云南省地震局：滇池白鲢鱼跳龙门初步分析受水体和人为影响\n",
      "教育 \t 北京海关今年已截获进境“异宠”128只\n",
      "社会 \t 【8点见】男子掏警官证让交警放行？官方通报\n",
      "体育 \t 贵州“6·18梵净山金顶摩崖刻字案”违法行为人已被锁定\n",
      "体育 \t 重庆警方破获一特大虚开增值税专用发票案 涉案金额超20亿元\n",
      "娱乐 \t 古琴名家齐聚上海 奏响千年非遗古韵\n",
      "体育 \t 湖南回应涉“省直单位”微信群不雅信息事件：纪检部门第一时间介入 警方正在调查\n",
      "教育 \t 部分交友软件仍对未成年人“不设防”\n",
      "娱乐 \t 天宫TV | 点赞！神十六出舱任务精彩回顾\n",
      "体育 \t 中国第13次北冰洋科学考察首个海域作业任务全部完成\n",
      "社会 \t 公司为竞标将5万P成5000万 法院：顶格罚款！\n",
      "体育 \t 不给“踢皮球”留下空间 深圳打造民生诉求服务一体化平台\n",
      "体育 \t “求爱不成当街捅杀女子”案检方建议死刑，凶手当庭忏悔但未道歉\n",
      "教育 \t 抓好关键期 各方助力高校毕业生就业\n",
      "科技 \t 就在2024年！AG600有新计划\n",
      "教育 \t 答疑！甲流高发，公众如何科学应对？\n",
      "股票 \t 重庆文化产业投资集团有限公司党委书记、董事长陈余莉接受审查调查\n",
      "科技 \t 电信网络诈骗花样翻新 如何守好“钱袋子”？\n",
      "体育 \t 官方通报网传“南山医院整形科医生刘某实名举报信”：纪检监察机构已介入调查\n",
      "教育 \t C919首飞成功 背后有这些中国高校的身影\n",
      "体育 \t 中国石油天然气集团有限公司原副总经理徐文荣接受审查调查\n",
      "时政 \t 人社部发布通知：推进高校毕业生等青年就业创业\n",
      "体育 \t 北京警方：“2023北京花马”赛事期间 部分道路将临时管制\n",
      "教育 \t 加强工程教育，培养新时代“鲁班”\n",
      "时政 \t 全国首单数据知产被侵权损失保险签发\n",
      "教育 \t 上海：每所中小学校应配备至少1名法治副校长\n",
      "科技 \t 反间谍法修订拟完善关于网络间谍行为的规定\n",
      "体育 \t 国家文物局：规范引导博物馆社会讲解，及时纠正歪曲史实等行为\n",
      "体育 \t 京津冀等地高温再发展局地或达40℃ 强降雨重点影响长江以北\n",
      "股票 \t 专家：乳腺癌防治迎新进展 但早诊早治仍是上策\n",
      "娱乐 \t “缅北淘金”多陷阱 警惕黑手伸向青少年\n",
      "教育 \t 七夕“冷知识”：“牛郎”“织女”真能相会吗？\n",
      "时政 \t 山东威海市原副市长周永迪受贿案一审公开宣判\n",
      "时政 \t 最高人民检察院依法对张晓霈决定逮捕\n",
      "时政 \t 杭州公安破获一起侵犯亚运会著作权案件\n",
      "股票 \t 前四个月我国服务贸易增长9.1%\n",
      "体育 \t 中国警方与印尼警方开展国际警务执法合作 成功抓获88名从事跨境裸聊敲诈的电信网络诈骗犯罪嫌疑人\n",
      "体育 \t 检察机关办理的食药安全公益诉讼案件呈现什么特点？最高检回应\n",
      "体育 \t 山西公布秦汉墓发掘资料 助推中国北方秦汉考古文化谱系建立\n",
      "社会 \t 北京57个老旧小区纳入今年首批改造，涉163栋楼\n",
      "科技 \t 报告：农村消费环境持续改善 电商带动消费升级\n",
      "体育 \t 新版《摩托车、电动自行车乘员头盔》国家标准修订发布\n",
      "教育 \t 多所高校2023年高招政策陆续出炉：新专业新模式，以“新”顺应国家发展\n",
      "时政 \t 公安部在全国101个县（区）设立农村赌博常态监测点\n",
      "体育 \t 北京政法职业学院通报“男生制止霸凌遭同学辱骂围堵”：警方正调查\n",
      "股票 \t 一季度我国人民币贷款增加10.6万亿元 同比创新高\n",
      "科技 \t “村超”观察：一粒足球的力量\n",
      "体育 \t 国家癌症中心：我国已建立覆盖14.07亿人口的肿瘤登记体系\n",
      "教育 \t 为什么不要把孩子单独留在车里？\n",
      "家居 \t 六一临近儿童产品走俏\n",
      "社会 \t 一针改善老年灵长类动物的记忆\n",
      "体育 \t 新华全媒+丨闻“汛”而动提前部署 加快恢复生产生活——辽宁全力打好防范强降雨“主动仗”见闻\n",
      "教育 \t “研学游”，如何实现“研学优”\n",
      "时政 \t 教育部：加快推动京津优质基础教育资源同河北共享\n",
      "体育 \t 游客下海疑被不明鱼类咬伤，广西北海一浴场暂停涉水活动\n",
      "体育 \t “零首付购房”有哪些风险？多地监管部门发出提示\n",
      "体育 \t 文博日历丨八年级的物理题 2000多年前的古人就会做\n",
      "体育 \t 妙笔绘端午 仲夏观龙舟——《艺术里的奥林匹克》与您共赏《十二月令图·五月》洋溢的繁盛祥和\n",
      "时政 \t 以色列研究借助新靶向给药系统高效杀灭骨髓癌细胞\n",
      "体育 \t 大学生“以证换狗”走红，律师称帮忙遛狗需划分责任\n",
      "体育 \t 2022中国科幻网络文学白皮书发布，科幻网文增长迅速\n",
      "时政 \t 我国评选创新升级消费品九批655个\n",
      "社会 \t 安徽来安两名警务人员为救溺水男子因公殉职\n",
      "教育 \t 119岁的京剧科班富连成社入驻“北京老字号”\n",
      "体育 \t 驰骋方寸 心游无极——《艺术里的奥林匹克》带您品味《香山九老图》里寄情山水的恬淡志趣\n",
      "娱乐 \t “码农”劳动争议频发 厘清责任依法“护体”\n",
      "时政 \t 日本核污染水或2年内进入我国海域！专家解读\n",
      "教育 \t 北京交警：中考期间送考车辆尾号限行违法不作处罚\n",
      "体育 \t 北京市政协教文卫体委员会原主任周立云被开除党籍和公职\n",
      "时政 \t 教育部：不让一个适龄儿童因家庭贫困而辍学失学\n",
      "股票 \t 多彩暑托班 点亮缤纷假期\n",
      "体育 \t 受台风“苏拉”强降雨影响 广西发布洪水蓝色预警\n",
      "体育 \t 新华视点丨“高薪”背后可能有陷阱 谨防招聘诈骗套路多\n",
      "体育 \t 首都机场发布雷雨警报：预计会对航班运行造成较大影响\n",
      "科技 \t 我国人工智能蓬勃发展 核心产业规模达5000亿元\n",
      "体育 \t 美国唱片学院更新格莱美奖评选规则，将纯AI生成作品拒之门外\n",
      "娱乐 \t AI来了，“智能”抢了“人工”的饭碗？\n",
      "体育 \t “学院派”烧虾师傅“抢手” 高校冷门专业就业“真香”\n",
      "财经 \t 因油价上涨，8月18日起杭州市区出租车将收取1元燃油附加费\n",
      "科技 \t 扫墓时遇到这样一场音乐会\n",
      "体育 \t 为一亿乙肝感染者发声，电影《不止不休》传递了什么？\n",
      "娱乐 \t 中国首部青少年院线公益电影《青爱》在京开机\n",
      "娱乐 \t 北京进入今年第二个飞絮高发期 将持续至5月7日\n",
      "体育 \t 湖北五峰县山体滑坡：仍有7人失联 现场全力展开搜救\n"
     ]
    }
   ],
   "source": [
    "predicted = [predict(d) for d in test_data[:100]]\n",
    "for t, p in zip(test_data, predicted):\n",
    "    print(p,'\\t' ,t)"
   ]
  }
 ],
 "metadata": {
  "kernelspec": {
   "display_name": "torch",
   "language": "python",
   "name": "python3"
  },
  "language_info": {
   "codemirror_mode": {
    "name": "ipython",
    "version": 3
   },
   "file_extension": ".py",
   "mimetype": "text/x-python",
   "name": "python",
   "nbconvert_exporter": "python",
   "pygments_lexer": "ipython3",
   "version": "3.8.16"
  },
  "orig_nbformat": 4
 },
 "nbformat": 4,
 "nbformat_minor": 2
}
