{
 "cells": [
  {
   "cell_type": "code",
   "execution_count": 104,
   "metadata": {},
   "outputs": [],
   "source": [
    "from preprocess import *"
   ]
  },
  {
   "cell_type": "code",
   "execution_count": 105,
   "metadata": {},
   "outputs": [],
   "source": [
    "data, labels = load_data('THUCNews-Title')"
   ]
  },
  {
   "cell_type": "code",
   "execution_count": 106,
   "metadata": {},
   "outputs": [
    {
     "data": {
      "text/plain": [
       "(836075, 836075)"
      ]
     },
     "execution_count": 106,
     "metadata": {},
     "output_type": "execute_result"
    }
   ],
   "source": [
    "len(data),len(labels)"
   ]
  },
  {
   "cell_type": "code",
   "execution_count": 107,
   "metadata": {},
   "outputs": [],
   "source": [
    "wvm = create_vector(data, labels, 64)\n",
    "pickle_dump('wvm', wvm)"
   ]
  },
  {
   "cell_type": "code",
   "execution_count": 108,
   "metadata": {},
   "outputs": [],
   "source": [
    "train_data, test_data, train_labels, test_labels = split_train_test_data(data, labels, test_size=0.3)"
   ]
  },
  {
   "cell_type": "code",
   "execution_count": 109,
   "metadata": {},
   "outputs": [],
   "source": [
    "spider_test_data, spider_test_labels = test_data, test_labels"
   ]
  },
  {
   "cell_type": "code",
   "execution_count": 110,
   "metadata": {},
   "outputs": [],
   "source": [
    "labelset = list(set(train_labels))\n",
    "idx2label = dict(enumerate(labelset))\n",
    "label2idx = dict([(v, k) for k, v in enumerate(labelset)])\n",
    "\n",
    "train_data_id = [text_to_id(text, wvm, 30) for text in train_data ]\n",
    "train_labels_idx = np.array([label2idx[label] for label in train_labels])\n",
    "\n",
    "\n",
    "test_data_id = [text_to_id(text, wvm, 30) for text in test_data ]\n",
    "test_labels_idx = np.array([label2idx[label] for label in test_labels])"
   ]
  },
  {
   "cell_type": "code",
   "execution_count": 111,
   "metadata": {},
   "outputs": [],
   "source": [
    "embedding_matrix = np.zeros((len(wvm.wv.index_to_key), wvm.vector_size))\n",
    "for i, word in enumerate(wvm.wv.index_to_key):\n",
    "    embedding_matrix[i] = wvm.wv[word]"
   ]
  },
  {
   "cell_type": "code",
   "execution_count": 112,
   "metadata": {},
   "outputs": [],
   "source": [
    "pickle_dump('idx2label', idx2label)\n",
    "pickle_dump('label2idx', label2idx)\n",
    "pickle_dump('wvm', wvm)\n",
    "pickle_dump('embedding_matrix', embedding_matrix)"
   ]
  },
  {
   "cell_type": "code",
   "execution_count": 113,
   "metadata": {},
   "outputs": [],
   "source": [
    "class BiLSTMClassifier(nn.Module):\n",
    "    def __init__(self, embedding_matrix, hidden_dim, num_classes):\n",
    "        super(BiLSTMClassifier, self).__init__()\n",
    "        self.embedding = nn.Embedding.from_pretrained(torch.FloatTensor(embedding_matrix), freeze=True)\n",
    "        self.lstm = nn.LSTM(embedding_matrix.shape[1], hidden_dim, bidirectional=True, batch_first=True)\n",
    "        self.fc = nn.Linear(hidden_dim * 2, num_classes)\n",
    "\n",
    "    def forward(self, x):\n",
    "        embedded = self.embedding(x)\n",
    "        lstm_out, _ = self.lstm(embedded)\n",
    "        avg_pool = torch.mean(lstm_out, dim=1)\n",
    "        output = self.fc(avg_pool)\n",
    "        return output"
   ]
  },
  {
   "cell_type": "code",
   "execution_count": 114,
   "metadata": {},
   "outputs": [],
   "source": [
    "\n",
    "\n",
    "hidden_dim = 64\n",
    "num_classes = len(label2idx)\n",
    "model = BiLSTMClassifier(embedding_matrix, hidden_dim, num_classes)\n",
    "\n",
    "criterion = nn.CrossEntropyLoss()\n",
    "optimizer = optim.Adam(model.parameters(), lr=0.001)"
   ]
  },
  {
   "cell_type": "code",
   "execution_count": 115,
   "metadata": {},
   "outputs": [],
   "source": [
    "train_data_id_tensor = torch.LongTensor(train_data_id)\n",
    "train_labels_idx_tensor = torch.LongTensor(train_labels_idx)\n",
    "\n",
    "test_data_id_tensor = torch.LongTensor(test_data_id)\n",
    "test_labels_idx_tensor = torch.LongTensor(test_labels_idx)"
   ]
  },
  {
   "cell_type": "code",
   "execution_count": 116,
   "metadata": {},
   "outputs": [],
   "source": [
    "model = model.to('cuda')\n",
    "\n",
    "train_data_id_tensor = train_data_id_tensor.to('cuda')\n",
    "train_labels_idx_tensor = train_labels_idx_tensor.to('cuda')\n",
    "\n",
    "\n",
    "test_data_id_tensor = test_data_id_tensor.to('cuda')\n",
    "test_labels_idx_tensor = test_labels_idx_tensor.to('cuda')"
   ]
  },
  {
   "cell_type": "code",
   "execution_count": 117,
   "metadata": {},
   "outputs": [],
   "source": [
    "batch_size = 128\n",
    "\n",
    "train_dataset = torch.utils.data.TensorDataset(train_data_id_tensor, train_labels_idx_tensor)\n",
    "train_loader = torch.utils.data.DataLoader(train_dataset, batch_size=batch_size, shuffle=False)"
   ]
  },
  {
   "cell_type": "code",
   "execution_count": 118,
   "metadata": {},
   "outputs": [
    {
     "name": "stdout",
     "output_type": "stream",
     "text": [
      " batch: 1000 loss: 0.6418344378471375\n",
      " batch: 2000 loss: 0.4478532671928406\n",
      " batch: 3000 loss: 0.40352609753608704\n",
      " batch: 4000 loss: 0.2960279881954193\n",
      "Epoch [1/5] Loss: 0.5205\n",
      " batch: 1000 loss: 0.4813195466995239\n",
      " batch: 2000 loss: 0.2731283903121948\n",
      " batch: 3000 loss: 0.27901607751846313\n",
      " batch: 4000 loss: 0.23022904992103577\n",
      "Epoch [2/5] Loss: 0.3485\n",
      " batch: 1000 loss: 0.42411744594573975\n",
      " batch: 2000 loss: 0.2144313007593155\n",
      " batch: 3000 loss: 0.22340022027492523\n",
      " batch: 4000 loss: 0.2099044919013977\n",
      "Epoch [3/5] Loss: 0.3118\n",
      " batch: 1000 loss: 0.40490540862083435\n",
      " batch: 2000 loss: 0.1889411211013794\n",
      " batch: 3000 loss: 0.20495672523975372\n",
      " batch: 4000 loss: 0.1910036951303482\n",
      "Epoch [4/5] Loss: 0.2910\n",
      " batch: 1000 loss: 0.3726951479911804\n",
      " batch: 2000 loss: 0.16988888382911682\n",
      " batch: 3000 loss: 0.1881778985261917\n",
      " batch: 4000 loss: 0.18660196661949158\n",
      "Epoch [5/5] Loss: 0.2762\n"
     ]
    }
   ],
   "source": [
    "model.train()\n",
    "num_epochs = 5\n",
    "model.to('cuda')\n",
    "epoch_loss = []\n",
    "for epoch in range(num_epochs):\n",
    "    total_loss = 0.0\n",
    "    i = 0\n",
    "    for inputs, labels in train_loader:\n",
    "        optimizer.zero_grad()\n",
    "        outputs = model(inputs)\n",
    "        loss = criterion(outputs, labels)\n",
    "        loss.backward()\n",
    "        optimizer.step()\n",
    "        total_loss += loss.item()\n",
    "        i+=1\n",
    "        if(i % 1000 == 0):\n",
    "            print('\\r batch: {} loss: {}'.format(i, loss.item()))\n",
    "    \n",
    "    average_loss = total_loss / len(train_loader)\n",
    "    fpath = os.path.join('pth',f'epoch_{epoch}.pth')\n",
    "    torch.save(model,fpath)\n",
    "    print(f'Epoch [{epoch + 1}/{num_epochs}] Loss: {average_loss:.4f}')\n",
    "    epoch_loss.append(average_loss)"
   ]
  },
  {
   "cell_type": "code",
   "execution_count": 125,
   "metadata": {},
   "outputs": [
    {
     "name": "stdout",
     "output_type": "stream",
     "text": [
      "Test Accuracy: 90.50%\n"
     ]
    }
   ],
   "source": [
    "model.eval()\n",
    "a = 0\n",
    "b = 200\n",
    "with torch.no_grad():\n",
    "    test_outputs = model(test_data_id_tensor[a:b])\n",
    "    _, predicted = torch.max(test_outputs, 1)\n",
    "    predicted = predicted.to('cpu')\n",
    "    accuracy = accuracy_score(test_labels_idx_tensor.to('cpu')[a:b], predicted.numpy())\n",
    "    print(f'Test Accuracy: {accuracy * 100:.2f}%')"
   ]
  },
  {
   "cell_type": "code",
   "execution_count": 126,
   "metadata": {},
   "outputs": [
    {
     "name": "stdout",
     "output_type": "stream",
     "text": [
      "{0: '社会', 1: '科技', 2: '娱乐', 3: '时政', 4: '房产', 5: '教育', 6: '时尚', 7: '体育', 8: '财经', 9: '彩票', 10: '星座', 11: '家居', 12: '游戏', 13: '股票'}\n"
     ]
    }
   ],
   "source": [
    "print(idx2label)"
   ]
  },
  {
   "cell_type": "code",
   "execution_count": 121,
   "metadata": {},
   "outputs": [
    {
     "name": "stdout",
     "output_type": "stream",
     "text": [
      "Test Accuracy: 90.50%\n"
     ]
    }
   ],
   "source": [
    "model.eval()\n",
    "a = 0\n",
    "b = 200\n",
    "with torch.no_grad():\n",
    "    test_outputs = model(test_data_id_tensor[a:b])\n",
    "    _, predicted = torch.max(test_outputs, 1)\n",
    "    predicted = predicted.to('cpu')\n",
    "    accuracy = accuracy_score(test_labels_idx_tensor.to('cpu')[a:b], predicted.numpy())\n",
    "    print(f'Test Accuracy: {accuracy * 100:.2f}%')"
   ]
  },
  {
   "cell_type": "code",
   "execution_count": 127,
   "metadata": {},
   "outputs": [],
   "source": [
    "def predict(text):\n",
    "    with torch.no_grad():\n",
    "        test_outputs = model(torch.LongTensor([text_to_id(text, wvm, 30)]).to('cuda'))\n",
    "        _, predicted = torch.max(test_outputs, 1)\n",
    "        predicted = predicted.to('cpu').numpy()\n",
    "        predicted = idx2label[predicted[0]]\n",
    "    return predicted"
   ]
  },
  {
   "cell_type": "code",
   "execution_count": 128,
   "metadata": {},
   "outputs": [
    {
     "data": {
      "text/plain": [
       "['沃尔沃第三季度盈利4.23亿美元 超预期',\n",
       " '大和维持中国石化H股强于大盘评级',\n",
       " '温家宝赴河南考察旱情强调今年兴修农村水利',\n",
       " '以色列将释放25名埃及囚犯换回1名以色列人',\n",
       " '两市周五放量普涨 形态上破',\n",
       " '恐慌气氛继续蔓延 考验2319只是时间问题',\n",
       " '直击-三点高空过度杨旭重炮得手 辽宁1-0领先杭州',\n",
       " '男篮大名单争夺进入乱世 生死时刻广东帮因何失宠',\n",
       " 'PS3《无双大蛇Z》PC移植版将11月推出',\n",
       " '耗资千万 《明珠三国》特色大揭秘',\n",
       " '戴尔提升收购3PAR价格至每股24.30美元',\n",
       " '美股周一低收中国概念股多数下跌',\n",
       " '黄加李泡世界杯：网络原创成人礼',\n",
       " '揭秘首发阵容缘何大变 国足开创主力从未合练先河',\n",
       " '各国第一夫人时尚穿衣经 谁是你榜样(组图)',\n",
       " '全国第一家非公企业党建展览馆',\n",
       " '爱情测试：爱情占你生命中的比重(图)',\n",
       " '微软幻灯片泄露天机 Windows 8或2012年上市',\n",
       " '汇丰晋信大盘股票基金即将发行',\n",
       " '梅婷为灾区学校捐建“心联小屋” 用于心理援助',\n",
       " '神奇教练战术却腐朽 穆里尼奥的足球属于20年前？',\n",
       " '全球142座摩天楼疑受金融危机影响停建',\n",
       " '奢华装饰法 打造一个高品质的家(组图)',\n",
       " '和黄获李李嘉诚增持29万股 每股70.093港元',\n",
       " '王菲杭州灵隐寺再求子(图)',\n",
       " '双头套机不足4K 宾得k-x超低价3920元',\n",
       " '天下天天谈：白宫啤酒峰会系奥巴马政治秀',\n",
       " '快讯：股指午后强势上扬',\n",
       " '《变形金刚塞伯坦之战》宣传视频欣赏',\n",
       " '趋势科技第三季净利5500万美元',\n",
       " '蓝筹井喷推大盘大涨 震荡或将加剧',\n",
       " '房地产业：成交量回升或将导致房价过快上涨',\n",
       " '研究发现硫化氢可有效治疗阳痿 有望开发新药',\n",
       " '分析师：火灾不会影响Mariner能源生产',\n",
       " '西班牙国王授予博斯克侯爵头衔 儿子将来可继承爵位',\n",
       " '男子养儿17年方知并非自己亲生 起诉前妻索赔',\n",
       " '美银美林指361度销售增长或超预期',\n",
       " '国内网游2011年渐趋回暖 业界大佬变高调',\n",
       " '国米6场4球王牌联赛0出场！ 标王天才竟已被加帅用废',\n",
       " '1亿欧元将成卡卡人生拐点？ 球场外也需要有大智慧',\n",
       " 'CIT集团破产或使高盛获益10亿美元',\n",
       " '英国癌症患者中200余万英镑彩票头奖',\n",
       " '老师当众打穿学生耳膜 记者采访遭校长质问',\n",
       " '百度推出老年搜索频道',\n",
       " '利物浦官方宣布四笔清洗 10冠先生加盟法甲冠军',\n",
       " '业之峰张钧：环保研究中心是为社会尽责',\n",
       " '新《西游记》悟空说道多 要求会打会演不能太高',\n",
       " '彭荃自战讲解：小李罕见失误 休职使棋感生疏(多谱)',\n",
       " '英国领空再受火山灰影响多个机场关闭(图)',\n",
       " '拉加德离IMF总裁还有多远',\n",
       " '高二女生摆摊挣学费遭城管殴打吓出精神病',\n",
       " '热点将切换 大盘将宽幅震荡',\n",
       " '抢跑大盘 谁作先锋领涨',\n",
       " '金属市场强势调整 趋势未改',\n",
       " '蔡明：探寻陌生的世界 寻找陌生的自己',\n",
       " '老师学生轮流照料瘫痪男同学35年',\n",
       " '快讯：双重利好刺激 国航率航空股集体上涨',\n",
       " '盘点：12位港台女星留学学历大曝光(组图)',\n",
       " '启动历来最大规模品牌推广计划 关注腾讯购',\n",
       " '贝克汉姆处子秀锁定罗马 卡卡道出AC米兰更衣室的秘密',\n",
       " '韩乔生称最爱韩国《美人》 暗恋桑兰“35年”(图)',\n",
       " '溢价114% 东海广场整层散卖已套现13亿元',\n",
       " '《宝贝国度》梦网版 激战万圣夜',\n",
       " '花旗：港银行股小亦是美 升永亨评级至买入',\n",
       " '久盛携手金海地产全力打造优质项目',\n",
       " '质检总局：天生园等6种月饼不合格',\n",
       " 'Netflix计划与Facebook整合 或涉嫌侵犯隐私',\n",
       " '阿Sa赴东京出席时装秀 欲向日本女生学温柔(图)',\n",
       " 'LG电子否认在韩国国外裁员',\n",
       " '罗志祥绯闻女友李毓芬 化身性感女仆甜美(组图)',\n",
       " 'comScore：杰克逊效应改变6月美视频网站格局',\n",
       " '高盛上调12个月铜价预期值',\n",
       " '陈慧琳男友提款被偷拍 发现记者摇头扁嘴(图)',\n",
       " '周末要闻回顾：李善友告别演讲',\n",
       " '分析师预测2012年iPhone出货量突破一亿台',\n",
       " '男子缴水费不满收费员上班迟到与其在大厅互殴',\n",
       " '戴尔推出体积最小游戏型笔记本(图)',\n",
       " '中移动TD四期招标结果揭晓华为中兴大唐列前三',\n",
       " '印尼载客渡轮倾覆共造成21人死亡232人获救',\n",
       " 'DBS张一鸣：精选推荐23只首选股短评',\n",
       " '亚马逊称Kindle阅读器是其最畅销产品',\n",
       " '富国优化强债提前结束募集',\n",
       " '帅哥被指不比玉宝强差 雨中苦等张纪中《兵圣》',\n",
       " '脚部不正冲门(脚易扭伤)或马桶',\n",
       " '北京新季竟无欲无求 上海后姚明时代唯他可称核心',\n",
       " '福布斯：企业应把握机会通过Facebook进行营销',\n",
       " '76人球员更衣室恶搞回应皇帝有些人连早餐都吃不完',\n",
       " '波什变樱木却没人扮流川 这样的龙王真是伤不起！',\n",
       " '三星TD手机演示中国移动G3业务',\n",
       " '瓦伦成功续约比利亚重创皇马 两国脚同一天绝缘伯纳乌',\n",
       " '美元不加息 金属齐狂欢',\n",
       " '产业政策主线能否提振大盘',\n",
       " '酿酒板块表现出色 古井贡酒涨6.41%',\n",
       " '银泰首三季销售增38% 股价升逾4%',\n",
       " '25日相机行情：单反新品上市卖195000元',\n",
       " '《牵挂》央一首播开门红 换子抢房风波连续上演',\n",
       " '申花拳殴门肇事者另有其人 朱骏两亲信都成冤大头',\n",
       " '7寸大屏掌上电视 纽曼CTV78仅780元',\n",
       " '长江基建半年盈利大幅倒退48% 派息升3%',\n",
       " '新高三将开始 新考生三大方面早准备']"
      ]
     },
     "execution_count": 128,
     "metadata": {},
     "output_type": "execute_result"
    }
   ],
   "source": [
    "spider_test_data[:100]"
   ]
  },
  {
   "cell_type": "code",
   "execution_count": 132,
   "metadata": {},
   "outputs": [],
   "source": [
    "test_data = ['民营企业进出口规模不断壮大 外贸活力充分展现',\n",
    "'今年前8个月我国外贸进出口总值27.08万亿元',\n",
    "'开通倒计时！复兴号智能动车组正式在福厦高铁试跑',\n",
    "'外交部：李强总理在雅加达应约与岸田文雄简短交谈',\n",
    "'财政部副部长王东伟：目前年收入10万元以下个人基本不缴个税',\n",
    "'我国成功发射遥感三十三号03星',\n",
    "'世界杯半决赛：美国VS德国 塞尔维亚VS加拿大',\n",
    "'23年金球奖30人候选名单公布 有梅西没C罗内马尔',\n",
    "'新手4元擒体彩1864万不急兑',\n",
    "'C罗：和梅西的竞争早就过去了 球迷喜欢这个故事',\n",
    "'10记三分，巨星对决！东契奇大爆发，斯洛文尼亚埋下隐患',\n",
    "'郑思维被竖大拇哥！冯彦哲受伤，凤凰组合被淘汰，女单2人出局',\n",
    "'世界杯四强诞生！FIBA第一人出局！美国队迎挑战，最强黑马崛起',\n",
    "]"
   ]
  },
  {
   "cell_type": "code",
   "execution_count": 133,
   "metadata": {},
   "outputs": [
    {
     "name": "stdout",
     "output_type": "stream",
     "text": [
      "科技 \t 民营企业进出口规模不断壮大 外贸活力充分展现\n",
      "时政 \t 今年前8个月我国外贸进出口总值27.08万亿元\n",
      "体育 \t 开通倒计时！复兴号智能动车组正式在福厦高铁试跑\n",
      "时政 \t 外交部：李强总理在雅加达应约与岸田文雄简短交谈\n",
      "体育 \t 财政部副部长王东伟：目前年收入10万元以下个人基本不缴个税\n",
      "时政 \t 我国成功发射遥感三十三号03星\n",
      "彩票 \t 世界杯半决赛：美国VS德国 塞尔维亚VS加拿大\n",
      "体育 \t 23年金球奖30人候选名单公布 有梅西没C罗内马尔\n",
      "科技 \t 新手4元擒体彩1864万不急兑\n",
      "体育 \t C罗：和梅西的竞争早就过去了 球迷喜欢这个故事\n"
     ]
    }
   ],
   "source": [
    "predicted = [predict(d) for d in test_data[:100]]\n",
    "for t, p in zip(test_data, predicted):\n",
    "    print(p,'\\t' ,t)"
   ]
  },
  {
   "cell_type": "code",
   "execution_count": null,
   "metadata": {},
   "outputs": [],
   "source": []
  }
 ],
 "metadata": {
  "kernelspec": {
   "display_name": "torch",
   "language": "python",
   "name": "python3"
  },
  "language_info": {
   "codemirror_mode": {
    "name": "ipython",
    "version": 3
   },
   "file_extension": ".py",
   "mimetype": "text/x-python",
   "name": "python",
   "nbconvert_exporter": "python",
   "pygments_lexer": "ipython3",
   "version": "3.8.16"
  },
  "orig_nbformat": 4
 },
 "nbformat": 4,
 "nbformat_minor": 2
}
